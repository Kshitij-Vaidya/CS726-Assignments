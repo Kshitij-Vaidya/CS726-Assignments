{
 "cells": [
  {
   "cell_type": "code",
   "execution_count": 1,
   "metadata": {},
   "outputs": [
    {
     "name": "stderr",
     "output_type": "stream",
     "text": [
      "/Users/kshitijvaidya/miniconda3/envs/cs726env/lib/python3.8/site-packages/tqdm/auto.py:21: TqdmWarning: IProgress not found. Please update jupyter and ipywidgets. See https://ipywidgets.readthedocs.io/en/stable/user_install.html\n",
      "  from .autonotebook import tqdm as notebook_tqdm\n"
     ]
    }
   ],
   "source": [
    "import torch\n",
    "import torch.utils\n",
    "import torch.utils.data\n",
    "from tqdm.auto import tqdm\n",
    "from torch import nn\n",
    "import argparse\n",
    "import torch.nn.functional as F\n",
    "import utils\n",
    "import dataset\n",
    "import os\n",
    "import matplotlib.pyplot as plt"
   ]
  },
  {
   "cell_type": "code",
   "execution_count": 2,
   "metadata": {},
   "outputs": [
    {
     "name": "stdout",
     "output_type": "stream",
     "text": [
      "(32561, 16, 4)\n"
     ]
    }
   ],
   "source": [
    "import numpy as np\n",
    "\n",
    "dataPath = 'data/albatross.npy'\n",
    "data = np.load(dataPath)\n",
    "print(data.shape)"
   ]
  },
  {
   "cell_type": "code",
   "execution_count": 3,
   "metadata": {},
   "outputs": [
    {
     "name": "stdout",
     "output_type": "stream",
     "text": [
      "(32561, 64)\n"
     ]
    }
   ],
   "source": [
    "dataPath2 = 'data/albatross_prior_samples.npy'\n",
    "data2 = np.load(dataPath2)\n",
    "print(data2.shape)"
   ]
  },
  {
   "cell_type": "code",
   "execution_count": 4,
   "metadata": {},
   "outputs": [
    {
     "data": {
      "image/png": "[encoded data removed]",
      "text/plain": [
       "<Figure size 640x480 with 1 Axes>"
      ]
     },
     "metadata": {},
     "output_type": "display_data"
    }
   ],
   "source": [
    "# Make a histogram of the prior sample data\n",
    "plt.hist(data2, bins=100, density=True)\n",
    "plt.title('Histogram of prior samples')\n",
    "plt.show()"
   ]
  },
  {
   "cell_type": "code",
   "execution_count": 5,
   "metadata": {},
   "outputs": [
    {
     "name": "stdout",
     "output_type": "stream",
     "text": [
      "<class 'torch.Tensor'>\n",
      "torch.Size([8000, 2])\n",
      "<class 'torch.Tensor'>\n",
      "torch.Size([8000])\n"
     ]
    }
   ],
   "source": [
    "moonDataX, moonDataY = dataset.load_dataset('moons')\n",
    "print(type(moonDataX))\n",
    "print(moonDataX.shape)\n",
    "print(type(moonDataY))\n",
    "print(moonDataY.shape)"
   ]
  },
  {
   "cell_type": "code",
   "execution_count": 6,
   "metadata": {},
   "outputs": [],
   "source": [
    "# Define the time embedding class to generate sinusoidal embeddings\n",
    "class TimeEmbedding(nn.Module):\n",
    "    def __init__(self, numDim : int):\n",
    "        super().__init__()\n",
    "        self.numDim = numDim\n",
    "\n",
    "    def forward(self, time : torch.Tensor):\n",
    "        '''\n",
    "        Input:\n",
    "            time: (batchSize, 1)\n",
    "        Output:\n",
    "            embedding: (batchSize, numDim)\n",
    "        '''\n",
    "        # Generate the sinusoidal embeddings\n",
    "        embedding = torch.zeros(time.shape[0], self.numDim)\n",
    "        for i in range(self.numDim):\n",
    "            if i % 2 == 0:\n",
    "                embedding[:, i] = torch.sin(time / 10000 ** (i / self.numDim))\n",
    "            else:\n",
    "                embedding[:, i] = torch.cos(time / 10000 ** ((i - 1) / self.numDim))\n",
    "        return embedding\n"
   ]
  },
  {
   "cell_type": "code",
   "execution_count": 7,
   "metadata": {},
   "outputs": [
    {
     "name": "stdout",
     "output_type": "stream",
     "text": [
      "torch.Size([100])\n",
      "torch.Size([100, 10])\n",
      "tensor([ 0.9093, -0.4161,  0.3117,  0.9502,  0.0502,  0.9987,  0.0080,  1.0000,\n",
      "         0.0013,  1.0000])\n"
     ]
    }
   ],
   "source": [
    "# Test the time embedding class to generate sinusoidal embeddings\n",
    "timeEmbedding = TimeEmbedding(10)\n",
    "timeSteps = torch.arange(0, 100)\n",
    "print(timeSteps.shape)\n",
    "embeddings = timeEmbedding(timeSteps)\n",
    "print(embeddings.shape)\n",
    "print(embeddings[2, :])"
   ]
  },
  {
   "cell_type": "code",
   "execution_count": 8,
   "metadata": {},
   "outputs": [],
   "source": [
    "# Write the Noise Scheduler class that will be used for training the DDPM Model\n",
    "class NoiseScheduler():\n",
    "    \"\"\"\n",
    "    Noise scheduler for the DDPM model\n",
    "\n",
    "    Args:\n",
    "        num_timesteps: int, the number of timesteps\n",
    "        type: str, the type of scheduler to use\n",
    "        **kwargs: additional arguments for the scheduler\n",
    "\n",
    "    This object sets up all the constants like alpha, beta, sigma, etc. required for the DDPM model\n",
    "    \n",
    "    \"\"\"\n",
    "    def __init__(self, num_timesteps=50, type=\"linear\", **kwargs):\n",
    "\n",
    "        self.num_timesteps = num_timesteps\n",
    "        self.type = type\n",
    "\n",
    "        if type == \"linear\":\n",
    "            self.init_linear_schedule(**kwargs)\n",
    "        else:\n",
    "            raise NotImplementedError(f\"{type} scheduler is not implemented\") # change this if you implement additional schedulers\n",
    "\n",
    "\n",
    "    def init_linear_schedule(self, beta_start, beta_end):\n",
    "        \"\"\"\n",
    "        Precompute whatever quantities are required for training and sampling\n",
    "        \"\"\"\n",
    "        self.betaSchedule = torch.linspace(beta_start, beta_end, self.num_timesteps)\n",
    "        self.alpha = 1 - self.betaSchedule\n",
    "        self.alphaProd = torch.cumprod(self.alpha, 0)\n",
    "        self.sqrtCumprodAlpha = np.sqrt(self.alphaProd)\n",
    "        self.sqrtAlpha = np.sqrt(self.alpha)\n",
    "        self.sqrtOneMinusAlpha = np.sqrt(1 - self.alpha)\n",
    "        self.sqrtOneMinusAlphaProd = torch.sqrt(1 - self.alphaProd)\n",
    "\n",
    "    def __len__(self):\n",
    "        return self.num_timesteps"
   ]
  },
  {
   "cell_type": "code",
   "execution_count": 9,
   "metadata": {},
   "outputs": [
    {
     "name": "stdout",
     "output_type": "stream",
     "text": [
      "tensor([1.0000, 0.9796, 0.9592, 0.9388, 0.9184, 0.8980, 0.8776, 0.8571, 0.8367,\n",
      "        0.8163, 0.7959, 0.7755, 0.7551, 0.7347, 0.7143, 0.6939, 0.6735, 0.6531,\n",
      "        0.6327, 0.6122, 0.5918, 0.5714, 0.5510, 0.5306, 0.5102, 0.4898, 0.4694,\n",
      "        0.4490, 0.4286, 0.4082, 0.3878, 0.3673, 0.3469, 0.3265, 0.3061, 0.2857,\n",
      "        0.2653, 0.2449, 0.2245, 0.2041, 0.1837, 0.1633, 0.1429, 0.1224, 0.1020,\n",
      "        0.0816, 0.0612, 0.0408, 0.0204, 0.0000])\n"
     ]
    }
   ],
   "source": [
    "noiseScheduler = NoiseScheduler(num_timesteps=50, \n",
    "                                type=\"linear\", \n",
    "                                beta_start=0.0, \n",
    "                                beta_end=1.0)\n",
    "# print(noiseScheduler.betaSchedule)\n",
    "print(noiseScheduler.alpha)"
   ]
  },
  {
   "cell_type": "code",
   "execution_count": 10,
   "metadata": {},
   "outputs": [],
   "source": [
    "class MLPModel(nn.Module):\n",
    "    def __init__(self, inputDim : int, timeEmbedDim : int, hiddenDim : int = 128):\n",
    "        super().__init__()\n",
    "        self.inputDim = inputDim\n",
    "        self.timeEmbedDim = timeEmbedDim\n",
    "        self.hiddenDim = hiddenDim\n",
    "        self.fc1 = nn.Linear(inputDim + timeEmbedDim, hiddenDim)\n",
    "        self.fc2 = nn.Linear(hiddenDim, hiddenDim)\n",
    "        self.fc3 = nn.Linear(hiddenDim, inputDim)\n",
    "        self.activation = nn.ReLU()\n",
    "    \n",
    "    def forward(self, input : torch.Tensor) -> torch.Tensor:\n",
    "        '''\n",
    "        Input:\n",
    "            input: (batchSize, inputDim)\n",
    "        Output:\n",
    "            output: (batchSize, inputDim)\n",
    "        '''\n",
    "        output = self.fc1(input)\n",
    "        output = self.activation(output)\n",
    "        output = self.fc2(output)\n",
    "        output = self.activation(output)\n",
    "        output = self.fc3(output)\n",
    "        return output\n"
   ]
  },
  {
   "cell_type": "code",
   "execution_count": 11,
   "metadata": {},
   "outputs": [],
   "source": [
    "class DDPM(nn.Module):\n",
    "    def __init__(self, n_dim=3, n_steps=200):\n",
    "        \"\"\"\n",
    "        Noise prediction network for the DDPM\n",
    "\n",
    "        Args:\n",
    "            n_dim: int, the dimensionality of the data\n",
    "            n_steps: int, the number of steps in the diffusion process\n",
    "        We have separate learnable modules for `time_embed` and `model`. `time_embed` can be learned or a fixed function as well\n",
    "\n",
    "        \"\"\"\n",
    "        super().__init__()\n",
    "        self.n_dim = n_dim\n",
    "        self.n_steps = n_steps\n",
    "        self.time_embed_dim = n_dim\n",
    "        self.time_embed = TimeEmbedding(self.time_embed_dim)\n",
    "        self.model = MLPModel(n_dim, self.time_embed_dim)\n",
    "\n",
    "    def forward(self, x, t):\n",
    "        \"\"\"\n",
    "        Args:\n",
    "            x: torch.Tensor, the input data tensor [batch_size, n_dim]\n",
    "            t: torch.Tensor, the timestep tensor [batch_size]\n",
    "\n",
    "        Returns:\n",
    "            torch.Tensor, the predicted noise tensor [batch_size, n_dim]\n",
    "        \"\"\"\n",
    "        # Get the time embeddings\n",
    "        timeEmbeddings = self.time_embed(t)\n",
    "        # Concatenate the input data with the time embeddings\n",
    "        input = torch.cat([x, timeEmbeddings], dim=-1)\n",
    "        # Get the predicted noise\n",
    "        noise = self.model(input)\n",
    "        return noise"
   ]
  },
  {
   "cell_type": "code",
   "execution_count": 12,
   "metadata": {},
   "outputs": [
    {
     "name": "stdout",
     "output_type": "stream",
     "text": [
      "torch.Size([10, 3])\n",
      "torch.Size([10])\n",
      "torch.Size([10, 3])\n"
     ]
    }
   ],
   "source": [
    "# Define a test model\n",
    "ddpm = DDPM(n_dim=3, n_steps=200)\n",
    "x = torch.randn(10, 3)\n",
    "t = torch.randint(0, 200, (10,))\n",
    "print(x.shape)\n",
    "print(t.shape)\n",
    "output = ddpm(x, t)\n",
    "print(output.shape)"
   ]
  },
  {
   "cell_type": "code",
   "execution_count": null,
   "metadata": {},
   "outputs": [],
   "source": [
    "def train(model, noise_scheduler, dataloader, optimizer, epochs, run_name):\n",
    "    \"\"\"\n",
    "    Train the model and save the model and necessary plots\n",
    "\n",
    "    Args:\n",
    "        model: DDPM, model to train\n",
    "        noise_scheduler: NoiseScheduler, scheduler for the noise\n",
    "        dataloader: torch.utils.data.DataLoader, dataloader for the dataset\n",
    "        optimizer: torch.optim.Optimizer, optimizer to use\n",
    "        epochs: int, number of epochs to train the model\n",
    "        run_name: str, path to save the model\n",
    "    \"\"\"\n",
    "    model.train()\n",
    "    lossFunction = nn.MSELoss()\n",
    "    device = next(model.parameters()).device\n",
    "    for epoch in range(epochs):\n",
    "        epochLoss = 0\n",
    "        for x in tqdm(dataloader, desc=f\"Epoch {epoch+1}/{epochs}\"):\n",
    "            x = x.to(device)\n",
    "            # Define the random time step\n",
    "            timesteps = torch.randint(1, noise_scheduler.num_timesteps, \n",
    "                                      (x.shape[0],), device=device)\n",
    "            # Get the noise\n",
    "            noise = torch.randn_like(x)\n",
    "            noisyInput = (noise_scheduler.sqrtCumprodAlpha[timesteps, None] * x \n",
    "                          + noise_scheduler.sqrtOneMinusAlphaProd[timesteps, None] * noise)\n",
    "            optimizer.zero_grad()\n",
    "            predictedNoise = model(noisyInput, timesteps)\n",
    "            loss = lossFunction(predictedNoise, noise)\n",
    "            loss.backward()\n",
    "            optimizer.step()\n",
    "            epochLoss += loss.item()\n",
    "        print(f\"Epoch {epoch+1}/{epochs} Loss: {epochLoss/len(dataloader)}\")\n",
    "    torch.save(model.state_dict(), f'models/{run_name}.pth')"
   ]
  },
  {
   "cell_type": "code",
   "execution_count": 14,
   "metadata": {},
   "outputs": [
    {
     "name": "stdout",
     "output_type": "stream",
     "text": [
      "torch.Size([8000, 2])\n"
     ]
    }
   ],
   "source": [
    "print(moonDataX.shape)"
   ]
  },
  {
   "cell_type": "code",
   "execution_count": 15,
   "metadata": {},
   "outputs": [
    {
     "name": "stderr",
     "output_type": "stream",
     "text": [
      "Epoch 1/10: 100%|██████████| 125/125 [00:00<00:00, 403.52it/s]\n"
     ]
    },
    {
     "name": "stdout",
     "output_type": "stream",
     "text": [
      "Epoch 1/10 Loss: 0.2013234297633171\n"
     ]
    },
    {
     "name": "stderr",
     "output_type": "stream",
     "text": [
      "Epoch 2/10: 100%|██████████| 125/125 [00:00<00:00, 499.45it/s]\n"
     ]
    },
    {
     "name": "stdout",
     "output_type": "stream",
     "text": [
      "Epoch 2/10 Loss: 0.1343212428689003\n"
     ]
    },
    {
     "name": "stderr",
     "output_type": "stream",
     "text": [
      "Epoch 3/10: 100%|██████████| 125/125 [00:00<00:00, 497.36it/s]\n"
     ]
    },
    {
     "name": "stdout",
     "output_type": "stream",
     "text": [
      "Epoch 3/10 Loss: 0.1221363232433796\n"
     ]
    },
    {
     "name": "stderr",
     "output_type": "stream",
     "text": [
      "Epoch 4/10: 100%|██████████| 125/125 [00:00<00:00, 498.87it/s]\n"
     ]
    },
    {
     "name": "stdout",
     "output_type": "stream",
     "text": [
      "Epoch 4/10 Loss: 0.1171347684264183\n"
     ]
    },
    {
     "name": "stderr",
     "output_type": "stream",
     "text": [
      "Epoch 5/10: 100%|██████████| 125/125 [00:00<00:00, 498.87it/s]\n"
     ]
    },
    {
     "name": "stdout",
     "output_type": "stream",
     "text": [
      "Epoch 5/10 Loss: 0.12734159258008004\n"
     ]
    },
    {
     "name": "stderr",
     "output_type": "stream",
     "text": [
      "Epoch 6/10: 100%|██████████| 125/125 [00:00<00:00, 500.79it/s]\n"
     ]
    },
    {
     "name": "stdout",
     "output_type": "stream",
     "text": [
      "Epoch 6/10 Loss: 0.13045124006271364\n"
     ]
    },
    {
     "name": "stderr",
     "output_type": "stream",
     "text": [
      "Epoch 7/10: 100%|██████████| 125/125 [00:00<00:00, 499.99it/s]\n"
     ]
    },
    {
     "name": "stdout",
     "output_type": "stream",
     "text": [
      "Epoch 7/10 Loss: 0.12916688296198844\n"
     ]
    },
    {
     "name": "stderr",
     "output_type": "stream",
     "text": [
      "Epoch 8/10: 100%|██████████| 125/125 [00:00<00:00, 500.73it/s]\n"
     ]
    },
    {
     "name": "stdout",
     "output_type": "stream",
     "text": [
      "Epoch 8/10 Loss: 0.12589249369502067\n"
     ]
    },
    {
     "name": "stderr",
     "output_type": "stream",
     "text": [
      "Epoch 9/10: 100%|██████████| 125/125 [00:00<00:00, 497.92it/s]\n"
     ]
    },
    {
     "name": "stdout",
     "output_type": "stream",
     "text": [
      "Epoch 9/10 Loss: 0.13493049019575118\n"
     ]
    },
    {
     "name": "stderr",
     "output_type": "stream",
     "text": [
      "Epoch 10/10: 100%|██████████| 125/125 [00:00<00:00, 501.69it/s]"
     ]
    },
    {
     "name": "stdout",
     "output_type": "stream",
     "text": [
      "Epoch 10/10 Loss: 0.13090104830265045\n"
     ]
    },
    {
     "name": "stderr",
     "output_type": "stream",
     "text": [
      "\n"
     ]
    }
   ],
   "source": [
    "# Define the dataset and dataloader\n",
    "batchSize = 64\n",
    "n_steps = 200\n",
    "dataset = moonDataX\n",
    "n_dim = dataset.shape[1]\n",
    "dataloader = torch.utils.data.DataLoader(dataset, \n",
    "                                         batch_size=batchSize, \n",
    "                                         shuffle=True)\n",
    "# Define the model\n",
    "ddpm = DDPM(n_dim=n_dim, n_steps=n_steps)\n",
    "# Define the optimizer\n",
    "optimizer = torch.optim.Adam(ddpm.parameters(), lr=1e-3)\n",
    "# Train the model\n",
    "train(ddpm, noiseScheduler, \n",
    "      dataloader, optimizer, epochs=10, \n",
    "      run_name=\"moon_test1\")"
   ]
  },
  {
   "cell_type": "code",
   "execution_count": null,
   "metadata": {},
   "outputs": [],
   "source": [
    "@torch.no_grad()\n",
    "def sample(model, n_samples, noise_scheduler, return_intermediate=False):\n",
    "    \"\"\"\n",
    "    Sample from the model\n",
    "    \n",
    "    Args:\n",
    "        model: DDPM\n",
    "        n_samples: int\n",
    "        noise_scheduler: NoiseScheduler\n",
    "        return_intermediate: bool\n",
    "    Returns:\n",
    "        torch.Tensor, samples from the model [n_samples, n_dim]\n",
    "\n",
    "    If `return_intermediate` is `False`,\n",
    "            torch.Tensor, samples from the model [n_samples, n_dim]\n",
    "    Else\n",
    "        the function returns all the intermediate steps in the diffusion process as well \n",
    "        Return: [[n_samples, n_dim]] x n_steps\n",
    "        Optionally implement return_intermediate=True, will aid in visualizing the intermediate steps\n",
    "    \"\"\"  \n",
    "    device = next(model.parameters()).device\n",
    "    model.eval()\n",
    "    samples = [] if return_intermediate else None\n",
    "    numDim = model.model.inputDim\n",
    "    inputs = torch.randn(n_samples, numDim, device=device)\n",
    "\n",
    "    for timestep in reversed(range(1, noise_scheduler.num_timesteps + 1)):\n",
    "        timesteps = torch.full((n_samples,), timestep, device=device)\n",
    "        noisePred = model(inputs, timesteps)\n",
    "        inputs = ((inputs - ((1.0 - noise_scheduler.alpha[timestep]) / noise_scheduler.sqrtOneMinusAlphaProd[timestep]) * noisePred)\n",
    "                  / noise_scheduler.sqrtAlpha[timestep])\n",
    "        if return_intermediate:\n",
    "            samples.append(inputs.clone().cpu().numpy())\n",
    "    if return_intermediate:\n",
    "        return samples\n",
    "    return inputs\n",
    "\n",
    "    "
   ]
  },
  {
   "cell_type": "code",
   "execution_count": 19,
   "metadata": {},
   "outputs": [],
   "source": [
    "# Test the sampling function\n",
    "trainedModel = DDPM(n_dim=2, n_steps=200)\n",
    "trainedModel.load_state_dict(torch.load('models/moon_test1.pth'))\n",
    "# trainedModel.eval()\n",
    "samples = sample(trainedModel, 1000, noiseScheduler, \n",
    "                 return_intermediate=True)\n",
    "# print(samples.shape)"
   ]
  },
  {
   "cell_type": "code",
   "execution_count": 21,
   "metadata": {},
   "outputs": [
    {
     "name": "stdout",
     "output_type": "stream",
     "text": [
      "50\n"
     ]
    },
    {
     "data": {
      "text/plain": [
       "<matplotlib.animation.FuncAnimation at 0x1921acd00>"
      ]
     },
     "execution_count": 21,
     "metadata": {},
     "output_type": "execute_result"
    },
    {
     "data": {
      "image/png": "[encoded data removed]",
      "text/plain": [
       "<Figure size 1000x1000 with 1 Axes>"
      ]
     },
     "metadata": {},
     "output_type": "display_data"
    }
   ],
   "source": [
    "print(len(samples))\n",
    "from utils import animateScatter2d\n",
    "\n",
    "figure, axes = plt.subplots(1, 1, figsize=(10, 10))\n",
    "animateScatter2d(figure, axes, samples, title=\"Diffusion Process\")"
   ]
  },
  {
   "cell_type": "code",
   "execution_count": 22,
   "metadata": {},
   "outputs": [
    {
     "name": "stdout",
     "output_type": "stream",
     "text": [
      "[[ inf  inf]\n",
      " [-inf -inf]\n",
      " [ inf  inf]\n",
      " ...\n",
      " [ inf -inf]\n",
      " [-inf -inf]\n",
      " [ inf -inf]]\n"
     ]
    }
   ],
   "source": [
    "print(samples[0])"
   ]
  }
 ],
 "metadata": {
  "kernelspec": {
   "display_name": "cs726env",
   "language": "python",
   "name": "python3"
  },
  "language_info": {
   "codemirror_mode": {
    "name": "ipython",
    "version": 3
   },
   "file_extension": ".py",
   "mimetype": "text/x-python",
   "name": "python",
   "nbconvert_exporter": "python",
   "pygments_lexer": "ipython3",
   "version": "3.8.20"
  }
 },
 "nbformat": 4,
 "nbformat_minor": 2
}
