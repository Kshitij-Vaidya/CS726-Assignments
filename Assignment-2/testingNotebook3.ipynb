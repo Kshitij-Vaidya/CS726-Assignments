{
 "cells": [
  {
   "cell_type": "code",
   "execution_count": 1,
   "metadata": {},
   "outputs": [
    {
     "name": "stderr",
     "output_type": "stream",
     "text": [
      "/home/raunak/miniconda3/envs/cs726env/lib/python3.8/site-packages/tqdm/auto.py:21: TqdmWarning: IProgress not found. Please update jupyter and ipywidgets. See https://ipywidgets.readthedocs.io/en/stable/user_install.html\n",
      "  from .autonotebook import tqdm as notebook_tqdm\n"
     ]
    }
   ],
   "source": [
    "import torch\n",
    "import torch.utils\n",
    "import torch.utils.data\n",
    "from tqdm.auto import tqdm\n",
    "from torch import nn\n",
    "import argparse\n",
    "import torch.nn.functional as F\n",
    "import utils\n",
    "import dataset\n",
    "import os\n",
    "import matplotlib.pyplot as plt\n",
    "import numpy as np"
   ]
  },
  {
   "cell_type": "code",
   "execution_count": 2,
   "metadata": {},
   "outputs": [
    {
     "name": "stdout",
     "output_type": "stream",
     "text": [
      "(32561, 16, 4)\n"
     ]
    }
   ],
   "source": [
    "\n",
    "\n",
    "dataPath = 'data/albatross.npy'\n",
    "data = np.load(dataPath)\n",
    "print(data.shape)"
   ]
  },
  {
   "cell_type": "code",
   "execution_count": 3,
   "metadata": {},
   "outputs": [
    {
     "name": "stdout",
     "output_type": "stream",
     "text": [
      "(32561, 64)\n"
     ]
    }
   ],
   "source": [
    "dataPath2 = 'data/albatross_prior_samples.npy'\n",
    "data2 = np.load(dataPath2)\n",
    "print(data2.shape)"
   ]
  },
  {
   "cell_type": "code",
   "execution_count": 4,
   "metadata": {},
   "outputs": [
    {
     "data": {
      "image/png": "[encoded data removed]",
      "text/plain": [
       "<Figure size 640x480 with 1 Axes>"
      ]
     },
     "metadata": {},
     "output_type": "display_data"
    }
   ],
   "source": [
    "# Make a histogram of the prior sample data\n",
    "plt.hist(data2, bins=100, density=True)\n",
    "plt.title('Histogram of prior samples')\n",
    "plt.show()"
   ]
  },
  {
   "cell_type": "code",
   "execution_count": 5,
   "metadata": {},
   "outputs": [
    {
     "name": "stdout",
     "output_type": "stream",
     "text": [
      "<class 'torch.Tensor'>\n",
      "torch.Size([8000, 2])\n",
      "<class 'torch.Tensor'>\n",
      "torch.Size([8000])\n"
     ]
    }
   ],
   "source": [
    "moonDataX, moonDataY = dataset.load_dataset('moons')\n",
    "print(type(moonDataX))\n",
    "print(moonDataX.shape)\n",
    "print(type(moonDataY))\n",
    "print(moonDataY.shape)"
   ]
  },
  {
   "cell_type": "code",
   "execution_count": 6,
   "metadata": {},
   "outputs": [],
   "source": [
    "# Define the time embedding class to generate sinusoidal embeddings\n",
    "class TimeEmbedding(nn.Module):\n",
    "    def __init__(self, numDim : int):\n",
    "        super().__init__()\n",
    "        self.numDim = numDim\n",
    "\n",
    "    def forward(self, time : torch.Tensor):\n",
    "        '''\n",
    "        Input:\n",
    "            time: (batchSize, 1)\n",
    "        Output:\n",
    "            embedding: (batchSize, numDim)\n",
    "        '''\n",
    "        # Generate the sinusoidal embeddings\n",
    "        embedding = torch.zeros(time.shape[0], self.numDim)\n",
    "        for i in range(self.numDim):\n",
    "            if i % 2 == 0:\n",
    "                embedding[:, i] = torch.sin(time / 10000 ** (i / self.numDim))\n",
    "            else:\n",
    "                embedding[:, i] = torch.cos(time / 10000 ** ((i - 1) / self.numDim))\n",
    "        return embedding\n"
   ]
  },
  {
   "cell_type": "code",
   "execution_count": 7,
   "metadata": {},
   "outputs": [
    {
     "name": "stdout",
     "output_type": "stream",
     "text": [
      "torch.Size([100])\n",
      "torch.Size([100, 10])\n",
      "tensor([ 0.9093, -0.4161,  0.3117,  0.9502,  0.0502,  0.9987,  0.0080,  1.0000,\n",
      "         0.0013,  1.0000])\n"
     ]
    }
   ],
   "source": [
    "# Test the time embedding class to generate sinusoidal embeddings\n",
    "timeEmbedding = TimeEmbedding(10)\n",
    "timeSteps = torch.arange(0, 100)\n",
    "print(timeSteps.shape)\n",
    "embeddings = timeEmbedding(timeSteps)\n",
    "print(embeddings.shape)\n",
    "print(embeddings[2, :])"
   ]
  },
  {
   "cell_type": "code",
   "execution_count": 8,
   "metadata": {},
   "outputs": [],
   "source": [
    "# Write the Noise Scheduler class that will be used for training the DDPM Model\n",
    "class NoiseScheduler():\n",
    "    \"\"\"\n",
    "    Noise scheduler for the DDPM model\n",
    "\n",
    "    Args:\n",
    "        num_timesteps: int, the number of timesteps\n",
    "        type: str, the type of scheduler to use\n",
    "        **kwargs: additional arguments for the scheduler\n",
    "\n",
    "    This object sets up all the constants like alpha, beta, sigma, etc. required for the DDPM model\n",
    "    \n",
    "    \"\"\"\n",
    "    def __init__(self, num_timesteps=50, type=\"linear\", **kwargs):\n",
    "\n",
    "        self.num_timesteps = num_timesteps\n",
    "        self.type = type\n",
    "\n",
    "        if type == \"linear\":\n",
    "            self.init_linear_schedule(**kwargs)\n",
    "        else:\n",
    "            raise NotImplementedError(f\"{type} scheduler is not implemented\") # change this if you implement additional schedulers\n",
    "\n",
    "\n",
    "    def init_linear_schedule(self, beta_start, beta_end):\n",
    "        \"\"\"\n",
    "        Precompute whatever quantities are required for training and sampling\n",
    "        \"\"\"\n",
    "        self.betaSchedule = torch.linspace(beta_start, beta_end, self.num_timesteps)\n",
    "        self.alpha = 1 - self.betaSchedule\n",
    "        self.alphaProd = torch.cumprod(self.alpha, 0)\n",
    "        self.sqrtCumprodAlpha = np.sqrt(self.alphaProd)\n",
    "        self.sqrtAlpha = np.sqrt(self.alpha)\n",
    "        self.sqrtOneMinusAlpha = np.sqrt(1 - self.alpha)\n",
    "        self.sqrtOneMinusAlphaProd = torch.sqrt(1 - self.alphaProd)\n",
    "\n",
    "    def __len__(self):\n",
    "        return self.num_timesteps"
   ]
  },
  {
   "cell_type": "code",
   "execution_count": 9,
   "metadata": {},
   "outputs": [
    {
     "name": "stdout",
     "output_type": "stream",
     "text": [
      "tensor([1.0000, 0.9796, 0.9592, 0.9388, 0.9184, 0.8980, 0.8776, 0.8571, 0.8367,\n",
      "        0.8163, 0.7959, 0.7755, 0.7551, 0.7347, 0.7143, 0.6939, 0.6735, 0.6531,\n",
      "        0.6327, 0.6122, 0.5918, 0.5714, 0.5510, 0.5306, 0.5102, 0.4898, 0.4694,\n",
      "        0.4490, 0.4286, 0.4082, 0.3878, 0.3673, 0.3469, 0.3265, 0.3061, 0.2857,\n",
      "        0.2653, 0.2449, 0.2245, 0.2041, 0.1837, 0.1633, 0.1429, 0.1224, 0.1020,\n",
      "        0.0816, 0.0612, 0.0408, 0.0204, 0.0000])\n"
     ]
    }
   ],
   "source": [
    "noiseScheduler = NoiseScheduler(num_timesteps=50, \n",
    "                                type=\"linear\", \n",
    "                                beta_start=0.0, \n",
    "                                beta_end=1.0)\n",
    "# print(noiseScheduler.betaSchedule)\n",
    "print(noiseScheduler.alpha)"
   ]
  },
  {
   "cell_type": "code",
   "execution_count": null,
   "metadata": {},
   "outputs": [],
   "source": [
    "class DDPM(nn.Module):\n",
    "    def __init__(self, n_dim=3, n_steps=200):\n",
    "        \"\"\"\n",
    "        Noise prediction network for the DDPM\n",
    "\n",
    "        Args:\n",
    "            n_dim: int, the dimensionality of the data\n",
    "            n_steps: int, the number of steps in the diffusion process\n",
    "        We have separate learnable modules for `time_embed` and `model`. `time_embed` can be learned or a fixed function as well\n",
    "\n",
    "        \"\"\"\n",
    "        self.time_embed = TimeEmbedding(n_dim)\n",
    "        self.model = nn.Sequential(\n",
    "            nn.Linear(n_dim, 128),\n",
    "            nn.ReLU(),\n",
    "            nn.Linear(128, 128),\n",
    "            nn.ReLU(),\n",
    "            nn.Linear(128, n_dim) \n",
    "        )\n",
    "\n",
    "    def forward(self, x, t):\n",
    "        \"\"\"\n",
    "        Args:\n",
    "            x: torch.Tensor, the input data tensor [batch_size, n_dim]\n",
    "            t: torch.Tensor, the timestep tensor [batch_size]\n",
    "\n",
    "        Returns:\n",
    "            torch.Tensor, the predicted noise tensor [batch_size, n_dim]\n",
    "        \"\"\"\n",
    "        input = x + self.time_embed(t)\n",
    "        return self.model(input)\n",
    "\n"
   ]
  },
  {
   "cell_type": "code",
   "execution_count": null,
   "metadata": {},
   "outputs": [],
   "source": [
    "def train(model, noise_scheduler, dataloader, optimizer, epochs, run_name):\n",
    "    \"\"\"\n",
    "    Train the model and save the model and necessary plots\n",
    "\n",
    "    Args:\n",
    "        model: DDPM, model to train\n",
    "        noise_scheduler: NoiseScheduler, scheduler for the noise\n",
    "        dataloader: torch.utils.data.DataLoader, dataloader for the dataset\n",
    "        optimizer: torch.optim.Optimizer, optimizer to use\n",
    "        epochs: int, number of epochs to train the model\n",
    "        run_name: str, path to save the model\n",
    "    \"\"\"\n",
    "    model.train()\n",
    "    loss_fn = nn.MSELoss()\n",
    "    for epoch in range(epochs):\n",
    "        epoch_loss = 0\n",
    "        for x in tqdm(dataloader, desc=f\"Epoch {epoch+1}/{epochs}\"):\n",
    "            x = x.to(torch.float32)\n",
    "            t = torch.randint(0, len(noise_scheduler), (x.shape[0],))\n",
    "            noise = torch.randn_like(x)\n",
    "            noisy_x = noise_scheduler.sqrtCumprodAlpha[t, None] * x + noise_scheduler.sqrtOneMinusAlphaProd[t, None] * noise\n",
    "            optimizer.zero_grad()\n",
    "            predicted_noise = model(noisy_x, t)\n",
    "            loss = loss_fn(predicted_noise, noise)\n",
    "            loss.backward()\n",
    "            optimizer.step()\n",
    "            epoch_loss += loss.item()\n",
    "        print(f\"Epoch {epoch+1}: Loss = {epoch_loss / len(dataloader)}\")\n",
    "    torch.save(model.state_dict(), f\"{run_name}.pt\")\n",
    "\n",
    "@torch.no_grad()\n",
    "def sample(model, n_samples, noise_scheduler, return_intermediate=False):\n",
    "    \"\"\"\n",
    "    Sample from the model\n",
    "    \n",
    "    Args:\n",
    "        model: DDPM\n",
    "        n_samples: int\n",
    "        noise_scheduler: NoiseScheduler\n",
    "        return_intermediate: bool\n",
    "    Returns:\n",
    "        torch.Tensor, samples from the model [n_samples, n_dim]\n",
    "\n",
    "    If `return_intermediate` is `False`,\n",
    "            torch.Tensor, samples from the model [n_samples, n_dim]\n",
    "    Else\n",
    "        the function returns all the intermediate steps in the diffusion process as well \n",
    "        Return: [[n_samples, n_dim]] x n_steps\n",
    "        Optionally implement return_intermediate=True, will aid in visualizing the intermediate steps\n",
    "    \"\"\"  \n",
    "    model.eval()\n",
    "    n_dim = model.model[-1].out_features\n",
    "    x = torch.randn(n_samples, n_dim)\n",
    "    intermediates = [] if return_intermediate else None\n",
    "    for t in reversed(range(len(noise_scheduler))):\n",
    "        noise_pred = model(x, torch.full((n_samples,), t, dtype=torch.long))\n",
    "        x = (x - noise_scheduler.sqrtOneMinusAlpha[t] * noise_pred) / noise_scheduler.sqrtAlpha[t]\n",
    "        if return_intermediate:\n",
    "            intermediates.append(x.clone())\n",
    "    return intermediates if return_intermediate else x\n"
   ]
  }
 ],
 "metadata": {
  "kernelspec": {
   "display_name": "cs726env",
   "language": "python",
   "name": "python3"
  },
  "language_info": {
   "codemirror_mode": {
    "name": "ipython",
    "version": 3
   },
   "file_extension": ".py",
   "mimetype": "text/x-python",
   "name": "python",
   "nbconvert_exporter": "python",
   "pygments_lexer": "ipython3",
   "version": "3.8.20"
  }
 },
 "nbformat": 4,
 "nbformat_minor": 2
}
