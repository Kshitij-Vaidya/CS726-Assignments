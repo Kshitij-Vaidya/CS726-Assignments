{
 "cells": [
  {
   "cell_type": "code",
   "execution_count": 1,
   "metadata": {},
   "outputs": [
    {
     "name": "stderr",
     "output_type": "stream",
     "text": [
      "/home/kshitij-vaidya/miniconda3/envs/cs726env/lib/python3.8/site-packages/tqdm/auto.py:21: TqdmWarning: IProgress not found. Please update jupyter and ipywidgets. See https://ipywidgets.readthedocs.io/en/stable/user_install.html\n",
      "  from .autonotebook import tqdm as notebook_tqdm\n"
     ]
    }
   ],
   "source": [
    "import torch\n",
    "import torch.utils\n",
    "import torch.utils.data\n",
    "from tqdm.auto import tqdm\n",
    "from torch import nn\n",
    "import argparse\n",
    "import torch.nn.functional as F\n",
    "import utils\n",
    "import dataset\n",
    "import os\n",
    "import matplotlib.pyplot as plt\n",
    "import numpy as np\n",
    "import math\n",
    "from typing import Optional, Union, List, Tuple\n",
    "from helperClasses import TimeEmbedding, UNetModel"
   ]
  },
  {
   "cell_type": "code",
   "execution_count": null,
   "metadata": {},
   "outputs": [],
   "source": [
    "class DDPM(nn.Module):\n",
    "    def __init__(self, n_dim=3, n_steps=200, num_channels=128):\n",
    "        \"\"\"\n",
    "        Noise prediction network for the DDPM\n",
    "\n",
    "        Args:\n",
    "            n_dim: int, the dimensionality of the data\n",
    "            n_steps: int, the number of steps in the diffusion process\n",
    "        We have separate learnable modules for `time_embed` and `model`. `time_embed` can be learned or a fixed function as well\n",
    "\n",
    "        \"\"\"\n",
    "        super().__init__()\n",
    "        self.time_embed = TimeEmbedding(n_steps)\n",
    "        self.model = UNetModel(imageChannels=n_dim, numChannels=num_channels, numDownsampling=5, numBlocks=2, numIntermediateChannels=64, numResidualChannels=64, numFeatureChannels=64, numTopChannels=64, numOutputChannels=n_dim)\n",
    "\n",
    "    def forward(self, x, t):\n",
    "        \"\"\"\n",
    "        Args:\n",
    "            x: torch.Tensor, the input data tensor [batch_size, n_dim]\n",
    "            t: torch.Tensor, the timestep tensor [batch_size]\n",
    "\n",
    "        Returns:\n",
    "            torch.Tensor, the predicted noise tensor [batch_size, n_dim]\n",
    "        \"\"\"\n",
    "        t = self.time_embed(t)\n",
    "        return self.model(x, t)"
   ]
  }
 ],
 "metadata": {
  "kernelspec": {
   "display_name": "cs726env",
   "language": "python",
   "name": "python3"
  },
  "language_info": {
   "codemirror_mode": {
    "name": "ipython",
    "version": 3
   },
   "file_extension": ".py",
   "mimetype": "text/x-python",
   "name": "python",
   "nbconvert_exporter": "python",
   "pygments_lexer": "ipython3",
   "version": "3.8.20"
  }
 },
 "nbformat": 4,
 "nbformat_minor": 2
}
