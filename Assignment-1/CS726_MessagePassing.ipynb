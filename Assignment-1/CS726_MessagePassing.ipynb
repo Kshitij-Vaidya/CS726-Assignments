{
 "cells": [
  {
   "cell_type": "code",
   "execution_count": 92,
   "metadata": {},
   "outputs": [],
   "source": [
    "import json\n",
    "import heapq\n",
    "import collections\n",
    "import itertools\n",
    "from typing import List, Dict, Tuple, Any, Union"
   ]
  },
  {
   "cell_type": "code",
   "execution_count": 93,
   "metadata": {},
   "outputs": [],
   "source": [
    "# Read in the data from the json file \n",
    "path = 'Sample_Testcase.json'\n",
    "with open(path, 'r') as file:\n",
    "    data = json.load(file)"
   ]
  },
  {
   "cell_type": "code",
   "execution_count": 94,
   "metadata": {},
   "outputs": [],
   "source": [
    "# Define helper functions for message passing\n",
    "def multiplyFactors(factorList: List[Dict], domain: list) -> dict:\n",
    "    if not factorList:\n",
    "        return oneFactor(domain) # Return a factor that is one for all assignments\n",
    "    \n",
    "    result = factorList[0].copy()\n",
    "    # print(type(result))\n",
    "    for factor in factorList[1:]:\n",
    "        result = multiplyTwoFactors(result, factor)\n",
    "    return result\n",
    "\n",
    "def multiplyTwoFactors(factor1 : Dict, factor2 : Dict) -> Dict:\n",
    "    result = {}\n",
    "    for assignment1, value1 in factor1.items():\n",
    "        for assignment2, value2 in factor2.items():\n",
    "            merged = unifyAssignments(assignment1, assignment2)\n",
    "            if merged is not None:\n",
    "                result[merged] = result.get(merged, 0.0) + (value1 * value2)   \n",
    "    return result\n",
    "\n",
    "def unifyAssignments(assignment1 : tuple, assignment2 : tuple) -> Union[tuple, None]:\n",
    "    mergedDict = dict(assignment1)\n",
    "    for variable, value in assignment2:\n",
    "        if variable in mergedDict and mergedDict[variable] != value:\n",
    "            return None\n",
    "        mergedDict[variable] = value\n",
    "    return tuple(sorted(mergedDict.items()))\n",
    "\n",
    "def oneFactor(domain : list) -> dict:\n",
    "    # Make all possible assignments\n",
    "    domainList = sorted(domain)\n",
    "    allAssignments = {}\n",
    "\n",
    "    for assignmentTuple in itertools.product([0, 1], repeat = len(domainList)):\n",
    "        assignment = tuple(zip(domainList, assignmentTuple))\n",
    "        allAssignments[assignment] = 1.0\n",
    "    return allAssignments\n",
    "    \n",
    "\n",
    "def sumOut(factor: Dict[Tuple[Tuple[int, int], ...], float], variablesToSumOut: List[int], domain: List[int]) -> Dict[Tuple[Tuple[int, int], ...], float]:\n",
    "    # Summation over a specified variables in the factor\n",
    "    result = {}\n",
    "    print(factor)\n",
    "    for assignment, value in factor:\n",
    "        newAssignment = tuple((var, val) for var, val in assignment if var not in variablesToSumOut)\n",
    "        result[newAssignment] = result.get(newAssignment, 0) + value\n",
    "    return result"
   ]
  },
  {
   "cell_type": "code",
   "execution_count": 95,
   "metadata": {},
   "outputs": [
    {
     "name": "stdout",
     "output_type": "stream",
     "text": [
      "{((0, 0), (1, 0), (2, 0)): 1.0, ((0, 0), (1, 0), (2, 1)): 1.0, ((0, 0), (1, 1), (2, 0)): 1.0, ((0, 0), (1, 1), (2, 1)): 1.0, ((0, 1), (1, 0), (2, 0)): 1.0, ((0, 1), (1, 0), (2, 1)): 1.0, ((0, 1), (1, 1), (2, 0)): 1.0, ((0, 1), (1, 1), (2, 1)): 1.0}\n"
     ]
    }
   ],
   "source": [
    "domain = [0, 1, 2]\n",
    "print(oneFactor(domain))"
   ]
  },
  {
   "cell_type": "code",
   "execution_count": 96,
   "metadata": {},
   "outputs": [
    {
     "name": "stdout",
     "output_type": "stream",
     "text": [
      "{((0, 0), (1, 0), (2, 0), (3, 1)): 6.0, ((0, 0), (1, 0), (2, 1), (3, 0)): 10.0}\n"
     ]
    }
   ],
   "source": [
    "# Testing helper functions\n",
    "# a1 = ((1, 0), (0, 1))\n",
    "# a2 = ((1, 1), (3, 0))\n",
    "# a3 = unifyAssignments(a1, a2)\n",
    "# print(a3)\n",
    "\n",
    "factor1 = {\n",
    "  ((0,0),(1,0)): 2.0,\n",
    "  ((2,2),(1,0)): 4.0\n",
    "}\n",
    "factor2 = {\n",
    "  ((2,0),(3,1)): 3.0,\n",
    "  ((2,1),(3,0)): 5.0\n",
    "}\n",
    "\n",
    "# Expected Multiplication : {((0, 0),): 0.1, ((0, 1),): 0.4}\n",
    "result = multiplyTwoFactors(factor1, factor2)\n",
    "print(result)"
   ]
  },
  {
   "cell_type": "code",
   "execution_count": 97,
   "metadata": {},
   "outputs": [],
   "source": [
    "class Inference:\n",
    "    def __init__(self, data : dict):\n",
    "        \"\"\"\n",
    "        Initialize the Inference class with the input data.\n",
    "        \n",
    "        Parameters:\n",
    "        -----------\n",
    "        data : dict\n",
    "            The input data containing the graphical model details, such as variables, cliques, potentials, and k value.\n",
    "        \n",
    "        What to do here:\n",
    "        ----------------\n",
    "        - Parse the input data and store necessary attributes (e.g., variables, cliques, potentials, k value).\n",
    "        - Initialize any data structures required for triangulation, junction tree creation, and message passing.\n",
    "        \n",
    "        Refer to the sample test case for the structure of the input data.\n",
    "        \"\"\"\n",
    "        self.testcaseNumber = data.get(\"TestCaseNumber\", 0)\n",
    "        self.variableCount = data.get(\"VariablesCount\", 0)\n",
    "        self.potentialCount = data.get(\"Potentials_count\", 0)\n",
    "        # List of cliques (each clique is a dictionary)\n",
    "        self.cliquesAndPotentials = data.get(\"Cliques and Potentials\", []) \n",
    "        self.k = data.get(\"k value (in top k)\", 0)\n",
    "\n",
    "        # Build the graph from the cliques. Nodes are labelled from 0 to variableCount - 1\n",
    "        self.undirectedGraph = {i: set() for i in range(self.variableCount)}\n",
    "        for clique in self.cliquesAndPotentials:\n",
    "            nodes = clique.get(\"cliques\", [])\n",
    "            # For each clique, add edges between each pair of nodes\n",
    "            for i in range(len(nodes)):\n",
    "                for j in range(i + 1, len(nodes)):\n",
    "                    self.undirectedGraph[nodes[i]].add(nodes[j])\n",
    "                    self.undirectedGraph[nodes[j]].add(nodes[i])\n",
    "        \n",
    "        # Define the variables needed to construct the triangulated graph\n",
    "        self.triangulatedGraph = {}\n",
    "        self.maximalCliques = []\n",
    "\n",
    "        # Define the variables needed to construct the junction tree\n",
    "        self.junctionTree = []\n",
    "\n",
    "        # Make a dictionary to store the potentials for each clique\n",
    "        self.cliquePotentials = {}\n",
    "\n",
    "\n",
    "    def triangulate_and_get_cliques(self):\n",
    "        \"\"\"\n",
    "        Triangulate the undirected graph and extract the maximal cliques.\n",
    "        \n",
    "        What to do here:\n",
    "        ----------------\n",
    "        - Implement the triangulation algorithm to make the graph chordal.\n",
    "        - Extract the maximal cliques from the triangulated graph.\n",
    "        - Store the cliques for later use in junction tree creation.\n",
    "\n",
    "        Refer to the problem statement for details on triangulation and clique extraction.\n",
    "        \"\"\"\n",
    "        temporaryGraph = {n : set(self.undirectedGraph[n]) for n in self.undirectedGraph}\n",
    "        chordalGraph = {n : set(self.undirectedGraph[n]) for n in self.undirectedGraph}\n",
    "\n",
    "        # Initialize the degree info into a min heap\n",
    "        degreeInfo = {node : len(temporaryGraph[node]) for node in temporaryGraph}\n",
    "        # Initialize the heap\n",
    "        degreeHeap = [(degreeInfo[node], node) for node in degreeInfo]\n",
    "        heapq.heapify(degreeHeap)\n",
    "        # Maintain a set for the nodes that have been eliminated\n",
    "        eliminatedNodes = set()\n",
    "        # Store the cliques from each elimination step\n",
    "        candidateCliques = []\n",
    "\n",
    "        # Eliminate the nodes one by one to triangulate the graph\n",
    "        while degreeHeap:\n",
    "            currDegree, currNode = heapq.heappop(degreeHeap)\n",
    "            if currNode in eliminatedNodes or degreeInfo[currNode] != currDegree:\n",
    "                continue\n",
    "\n",
    "            # Mark the node as eliminated\n",
    "            eliminatedNodes.add(currNode)\n",
    "            # Get the neighbours of the node that are not eliminated\n",
    "            neighbours = temporaryGraph[currNode] - eliminatedNodes\n",
    "            # Record the clique as the current node and the neighbours\n",
    "            currClique = set(neighbours)\n",
    "            currClique.add(currNode)\n",
    "            candidateCliques.append(currClique)\n",
    "\n",
    "            # Add fill edges among the neighours in the chordal graph\n",
    "            for i in neighbours:\n",
    "                for j in neighbours:\n",
    "                    # Add edge in the chordal graph if it is not already present\n",
    "                    if i == j:\n",
    "                        continue\n",
    "                    if j not in chordalGraph[i]:\n",
    "                        chordalGraph[i].add(j)\n",
    "                        chordalGraph[j].add(i)\n",
    "                    # Add edge in the temporary graph if it is not already present\n",
    "                    if j not in temporaryGraph[i]:\n",
    "                        temporaryGraph[i].add(j)\n",
    "                        temporaryGraph[j].add(i)\n",
    "                        degreeInfo[i] += 1\n",
    "                        degreeInfo[j] += 1\n",
    "            \n",
    "            # Remove the current node from the neighbours\n",
    "            for neighbour in neighbours:\n",
    "                temporaryGraph[neighbour].discard(currNode)\n",
    "            temporaryGraph[currNode].clear()\n",
    "            # Update the degree info\n",
    "            degreeInfo[currNode] = 0\n",
    "\n",
    "            # Update the heap with the new degrees\n",
    "            for neighbour in neighbours:\n",
    "                heapq.heappush(degreeHeap, (degreeInfo[neighbour], neighbour))\n",
    "        \n",
    "        # After exiting the while loop the graph is now triangulated\n",
    "        self.triangulatedGraph = chordalGraph\n",
    "        # Extract the maximal cliques from the candidate cliques by removing the duplicates and subsets\n",
    "        candidateCliques = list(set(frozenset(clique) for clique in candidateCliques))\n",
    "        finalCliques = []\n",
    "        for clique in candidateCliques:\n",
    "            if not any(clique < others for others in candidateCliques if clique != others):\n",
    "                finalCliques.append(clique)\n",
    "        self.maximalCliques = [set(clique) for clique in finalCliques]\n",
    "\n",
    "    \n",
    "    def get_junction_tree(self):\n",
    "        \"\"\"\n",
    "        Construct the junction tree from the maximal cliques.\n",
    "        \n",
    "        What to do here:\n",
    "        ----------------\n",
    "        - Create a junction tree using the maximal cliques obtained from the triangulated graph.\n",
    "        - For each pair of cliques, compute the common variables.\n",
    "          Then define the directed separator sets:\n",
    "              S_ij = clique_i - (clique_i ∩ clique_j)\n",
    "              S_ji = clique_j - (clique_i ∩ clique_j)\n",
    "        - Use the size of the common set as the weight to construct a maximum spanning tree.\n",
    "        - Store the junction tree as a list of tuples:\n",
    "              (clique_i, clique_j, S_ij, S_ji)\n",
    "          where S_ij is the separator when a message is passed from clique i to clique j,\n",
    "          and S_ji is for the reverse direction.\n",
    "        \"\"\"\n",
    "        # Build the weighted graph among the cliques\n",
    "        cliques = self.maximalCliques\n",
    "        cliqueCount = len(cliques)\n",
    "\n",
    "        if cliqueCount <= 1:\n",
    "            self.junctionTree = []\n",
    "            return\n",
    "        \n",
    "        # Collect the edges of the graph as (weight, i, j) where i and j are the indices of the cliques\n",
    "        weightedEdges = []\n",
    "        for i in range(cliqueCount):\n",
    "            for j in range(i + 1, cliqueCount):\n",
    "                intersection = cliques[i].intersection(cliques[j])\n",
    "                weight = len(intersection)\n",
    "                # Add the edge only if the intersection is non-empty\n",
    "                if weight > 0:\n",
    "                    # Store the negative weight to use the min heap as a max heap\n",
    "                    weightedEdges.append((-weight, i, j))\n",
    "        \n",
    "        # If there are no edges, then the junction tree is empty\n",
    "        if not weightedEdges and cliqueCount > 0:\n",
    "            # Implies that original graph has no intersecting cliques\n",
    "            self.junctionTree = []\n",
    "            return\n",
    "        \n",
    "        # Initialize the heap with the edges\n",
    "        heapq.heapify(weightedEdges)\n",
    "\n",
    "        # Initialize the union-find set to keep track of the connected components\n",
    "        parent = list(range(cliqueCount))\n",
    "        rank = [0] * cliqueCount\n",
    "\n",
    "        # Define the find and union functions for the union-find set\n",
    "        def find(x):\n",
    "            if parent[x] != x:\n",
    "                parent[x] = find(parent[x])\n",
    "            return parent[x]\n",
    "\n",
    "        def union(x, y):\n",
    "            rootX, rootY = find(x), find(y)\n",
    "            if rootX == rootY:\n",
    "                return False\n",
    "            # Union by Rank\n",
    "            if rank[rootX] > rank[rootY]:\n",
    "                parent[rootY] = rootX\n",
    "            elif rank[rootX] < rank[rootY]:\n",
    "                parent[rootX] = rootY\n",
    "            else:\n",
    "                parent[rootY] = rootX\n",
    "                rank[rootX] += 1\n",
    "            return True\n",
    "        \n",
    "        # Initialize the junction tree as a list of tuples\n",
    "        spanningTreeEdges = []\n",
    "        components = cliqueCount\n",
    "        while weightedEdges and components > 1:\n",
    "            weight, i, j = heapq.heappop(weightedEdges)\n",
    "            if union(i, j):\n",
    "                components -= 1\n",
    "                spanningTreeEdges.append((i, j, -weight))\n",
    "        \n",
    "        # Define the directed separator sets for each edge in the junction tree\n",
    "        junctionTree = []\n",
    "        for i, j, weight in spanningTreeEdges:\n",
    "            intersection = cliques[i].intersection(cliques[j])\n",
    "            separatorIJ = cliques[i] - intersection\n",
    "            separatorJI = cliques[j] - intersection\n",
    "            junctionTree.append((cliques[i], cliques[j], separatorIJ, separatorJI))\n",
    "            junctionTree.append((cliques[j], cliques[i], separatorJI, separatorIJ))\n",
    "        \n",
    "        self.junctionTree = junctionTree\n",
    "\n",
    "    \n",
    "    def assign_potentials_to_cliques(self):\n",
    "        \"\"\"\n",
    "        Assign potentials to the cliques in the junction tree.\n",
    "        \n",
    "        What to do here:\n",
    "        ----------------\n",
    "        - Map the given potentials (from the input data) to the corresponding cliques in the junction tree.\n",
    "        - Ensure the potentials are correctly associated with the cliques for message passing.\n",
    "        \n",
    "        Refer to the sample test case for how potentials are associated with cliques.\n",
    "        \"\"\"\n",
    "        # Convert the maximal cliques into a set of frozensets for easy comparison\n",
    "        frozenMaximalCliques = [frozenset(clique) for clique in self.maximalCliques]\n",
    "        self.cliquePotentials = {frozenClique: [] for frozenClique in frozenMaximalCliques}\n",
    "\n",
    "        # Iterate over each potential from the input data and assign it to the corresponding clique\n",
    "        for potentialDict in self.cliquesAndPotentials:\n",
    "            variableList = potentialDict.get(\"cliques\", [])\n",
    "            potentialValues = potentialDict.get(\"potentials\", [])\n",
    "            frozenVariableList = frozenset(variableList)\n",
    "            # Find all the maximal cliques containing the variables in the potential\n",
    "            for frozenClique in frozenMaximalCliques:\n",
    "                if frozenVariableList.issubset(frozenClique):\n",
    "                    self.cliquePotentials[frozenClique].append(potentialValues)\n",
    "    \n",
    "\n",
    "    def get_z_value(self):\n",
    "        \"\"\"\n",
    "            Compute the partition function (Z value) of the graphical model.\n",
    "            Implements sum-product message passing on the junction tree.\n",
    "\n",
    "            Broad Algorithm:\n",
    "            1. Choose a clique as the root of the junction tree.\n",
    "            2. Build a tree adjacency and find the post-order traversal of the junction tree from the leaves upto the root\n",
    "            3. For each directed edge (child -> parent), compute the message by:\n",
    "                - Taking child's factor by * all incoming messages from child's children\n",
    "                - Summing out the child's variables NOT in child's separator set\n",
    "            4. At the root, multiply the root's factors by all the factors from its children\n",
    "            5. Sum out the variables in the root factor\n",
    "        \"\"\"\n",
    "        # Edge case to consider when there are no cliques\n",
    "        if not self.maximalCliques:\n",
    "            return 0.0\n",
    "        \n",
    "        \n",
    "\n",
    "\n",
    "\n",
    "\n"
   ]
  },
  {
   "cell_type": "code",
   "execution_count": 98,
   "metadata": {},
   "outputs": [],
   "source": [
    "# Helper Functions to test the implementation\n",
    "def printUndirectedGraph(graph):\n",
    "    print(\"Undirected Graph:\")\n",
    "    for node, neighbors in graph.items():\n",
    "        print(f\"{node}: {sorted(neighbors)}\")\n",
    "\n",
    "def printTriangulatedGraph(graph):\n",
    "    print(\"Triangulated Graph:\")\n",
    "    for node, neighbors in graph.items():\n",
    "        print(f\"{node}: {sorted(neighbors)}\")"
   ]
  },
  {
   "cell_type": "code",
   "execution_count": 99,
   "metadata": {},
   "outputs": [
    {
     "name": "stdout",
     "output_type": "stream",
     "text": [
      "1\n",
      "4\n",
      "3\n",
      "[{'clique_size': 2, 'cliques': [0, 1], 'potentials': [3, 4, 5, 6]}, {'clique_size': 2, 'cliques': [1, 2], 'potentials': [2, 7, 1, 3]}, {'clique_size': 2, 'cliques': [0, 3], 'potentials': [5, 8, 2, 7]}]\n"
     ]
    }
   ],
   "source": [
    "sampleInference = Inference(data[0]['Input'])\n",
    "print(sampleInference.testcaseNumber)\n",
    "print(sampleInference.variableCount)\n",
    "print(sampleInference.potentialCount)\n",
    "print(sampleInference.cliquesAndPotentials)"
   ]
  },
  {
   "cell_type": "code",
   "execution_count": 100,
   "metadata": {},
   "outputs": [
    {
     "name": "stdout",
     "output_type": "stream",
     "text": [
      "Undirected Graph:\n",
      "0: [1, 3]\n",
      "1: [0, 2]\n",
      "2: [1]\n",
      "3: [0]\n"
     ]
    }
   ],
   "source": [
    "printUndirectedGraph(sampleInference.undirectedGraph)"
   ]
  },
  {
   "cell_type": "code",
   "execution_count": 101,
   "metadata": {},
   "outputs": [
    {
     "name": "stdout",
     "output_type": "stream",
     "text": [
      "Triangulated Graph:\n",
      "0: [1, 3]\n",
      "1: [0, 2]\n",
      "2: [1]\n",
      "3: [0]\n"
     ]
    }
   ],
   "source": [
    "sampleInference.triangulate_and_get_cliques()\n",
    "printTriangulatedGraph(sampleInference.triangulatedGraph)"
   ]
  },
  {
   "cell_type": "code",
   "execution_count": 102,
   "metadata": {},
   "outputs": [
    {
     "name": "stdout",
     "output_type": "stream",
     "text": [
      "Junction Tree:\n",
      "({0, 1}, {1, 2}, {0}, {2})\n",
      "({1, 2}, {0, 1}, {2}, {0})\n",
      "({0, 1}, {0, 3}, {1}, {3})\n",
      "({0, 3}, {0, 1}, {3}, {1})\n"
     ]
    }
   ],
   "source": [
    "sampleInference.get_junction_tree()\n",
    "print(\"Junction Tree:\")\n",
    "for clique in sampleInference.junctionTree:\n",
    "    print(clique)"
   ]
  },
  {
   "cell_type": "code",
   "execution_count": 103,
   "metadata": {},
   "outputs": [
    {
     "name": "stdout",
     "output_type": "stream",
     "text": [
      "Clique Potentials:\n",
      "Clique : frozenset({0, 1}) : Potential [[3, 4, 5, 6]]\n",
      "Clique : frozenset({1, 2}) : Potential [[2, 7, 1, 3]]\n",
      "Clique : frozenset({0, 3}) : Potential [[5, 8, 2, 7]]\n"
     ]
    }
   ],
   "source": [
    "sampleInference.assign_potentials_to_cliques()\n",
    "print(\"Clique Potentials:\")\n",
    "for clique, potentials in sampleInference.cliquePotentials.items():\n",
    "    print(f\"Clique : {clique} : Potential {potentials}\")"
   ]
  },
  {
   "cell_type": "code",
   "execution_count": 104,
   "metadata": {},
   "outputs": [
    {
     "name": "stdout",
     "output_type": "stream",
     "text": [
      "[2, 7, 1, 3]\n"
     ]
    },
    {
     "ename": "TypeError",
     "evalue": "cannot unpack non-iterable int object",
     "output_type": "error",
     "traceback": [
      "\u001b[0;31m---------------------------------------------------------------------------\u001b[0m",
      "\u001b[0;31mTypeError\u001b[0m                                 Traceback (most recent call last)",
      "\u001b[0;32m/var/folders/_j/88cr9tf91t7bl50lrpfbqd8c0000gn/T/ipykernel_94276/486736661.py\u001b[0m in \u001b[0;36m<module>\u001b[0;34m\u001b[0m\n\u001b[1;32m      1\u001b[0m \u001b[0;31m# Test the get_z_value function\u001b[0m\u001b[0;34m\u001b[0m\u001b[0;34m\u001b[0m\u001b[0m\n\u001b[0;32m----> 2\u001b[0;31m \u001b[0mzValue\u001b[0m \u001b[0;34m=\u001b[0m \u001b[0msampleInference\u001b[0m\u001b[0;34m.\u001b[0m\u001b[0mget_z_value\u001b[0m\u001b[0;34m(\u001b[0m\u001b[0;34m)\u001b[0m\u001b[0;34m\u001b[0m\u001b[0;34m\u001b[0m\u001b[0m\n\u001b[0m\u001b[1;32m      3\u001b[0m \u001b[0mprint\u001b[0m\u001b[0;34m(\u001b[0m\u001b[0;34mf\"Z Value: {zValue}\"\u001b[0m\u001b[0;34m)\u001b[0m\u001b[0;34m\u001b[0m\u001b[0;34m\u001b[0m\u001b[0m\n",
      "\u001b[0;32m/var/folders/_j/88cr9tf91t7bl50lrpfbqd8c0000gn/T/ipykernel_94276/1918930336.py\u001b[0m in \u001b[0;36mget_z_value\u001b[0;34m(self)\u001b[0m\n\u001b[1;32m    315\u001b[0m             \u001b[0mintersection\u001b[0m \u001b[0;34m=\u001b[0m \u001b[0mset\u001b[0m\u001b[0;34m(\u001b[0m\u001b[0mnode\u001b[0m\u001b[0;34m)\u001b[0m\u001b[0;34m.\u001b[0m\u001b[0mintersection\u001b[0m\u001b[0;34m(\u001b[0m\u001b[0mcurrParent\u001b[0m\u001b[0;34m)\u001b[0m\u001b[0;34m\u001b[0m\u001b[0;34m\u001b[0m\u001b[0m\n\u001b[1;32m    316\u001b[0m             \u001b[0mvariablesToSumOut\u001b[0m \u001b[0;34m=\u001b[0m \u001b[0mset\u001b[0m\u001b[0;34m(\u001b[0m\u001b[0mnode\u001b[0m\u001b[0;34m)\u001b[0m \u001b[0;34m-\u001b[0m \u001b[0mintersection\u001b[0m\u001b[0;34m\u001b[0m\u001b[0;34m\u001b[0m\u001b[0m\n\u001b[0;32m--> 317\u001b[0;31m             \u001b[0mmessageFactor\u001b[0m \u001b[0;34m=\u001b[0m \u001b[0msumOut\u001b[0m\u001b[0;34m(\u001b[0m\u001b[0mmergedFactor\u001b[0m\u001b[0;34m,\u001b[0m \u001b[0mvariablesToSumOut\u001b[0m\u001b[0;34m,\u001b[0m \u001b[0mlist\u001b[0m\u001b[0;34m(\u001b[0m\u001b[0mnode\u001b[0m\u001b[0;34m)\u001b[0m\u001b[0;34m)\u001b[0m\u001b[0;34m\u001b[0m\u001b[0;34m\u001b[0m\u001b[0m\n\u001b[0m\u001b[1;32m    318\u001b[0m             \u001b[0;32mif\u001b[0m \u001b[0;32mnot\u001b[0m \u001b[0misinstance\u001b[0m\u001b[0;34m(\u001b[0m\u001b[0mmessageFactor\u001b[0m\u001b[0;34m,\u001b[0m \u001b[0mdict\u001b[0m\u001b[0;34m)\u001b[0m\u001b[0;34m:\u001b[0m\u001b[0;34m\u001b[0m\u001b[0;34m\u001b[0m\u001b[0m\n\u001b[1;32m    319\u001b[0m                 \u001b[0mmessageFactor\u001b[0m \u001b[0;34m=\u001b[0m \u001b[0;34m{\u001b[0m\u001b[0;34m(\u001b[0m\u001b[0;34m)\u001b[0m\u001b[0;34m:\u001b[0m \u001b[0mmessageFactor\u001b[0m\u001b[0;34m}\u001b[0m\u001b[0;34m\u001b[0m\u001b[0;34m\u001b[0m\u001b[0m\n",
      "\u001b[0;32m/var/folders/_j/88cr9tf91t7bl50lrpfbqd8c0000gn/T/ipykernel_94276/3016189174.py\u001b[0m in \u001b[0;36msumOut\u001b[0;34m(factor, variablesToSumOut, domain)\u001b[0m\n\u001b[1;32m     42\u001b[0m     \u001b[0mresult\u001b[0m \u001b[0;34m=\u001b[0m \u001b[0;34m{\u001b[0m\u001b[0;34m}\u001b[0m\u001b[0;34m\u001b[0m\u001b[0;34m\u001b[0m\u001b[0m\n\u001b[1;32m     43\u001b[0m     \u001b[0mprint\u001b[0m\u001b[0;34m(\u001b[0m\u001b[0mfactor\u001b[0m\u001b[0;34m)\u001b[0m\u001b[0;34m\u001b[0m\u001b[0;34m\u001b[0m\u001b[0m\n\u001b[0;32m---> 44\u001b[0;31m     \u001b[0;32mfor\u001b[0m \u001b[0massignment\u001b[0m\u001b[0;34m,\u001b[0m \u001b[0mvalue\u001b[0m \u001b[0;32min\u001b[0m \u001b[0mfactor\u001b[0m\u001b[0;34m:\u001b[0m\u001b[0;34m\u001b[0m\u001b[0;34m\u001b[0m\u001b[0m\n\u001b[0m\u001b[1;32m     45\u001b[0m         \u001b[0mnewAssignment\u001b[0m \u001b[0;34m=\u001b[0m \u001b[0mtuple\u001b[0m\u001b[0;34m(\u001b[0m\u001b[0;34m(\u001b[0m\u001b[0mvar\u001b[0m\u001b[0;34m,\u001b[0m \u001b[0mval\u001b[0m\u001b[0;34m)\u001b[0m \u001b[0;32mfor\u001b[0m \u001b[0mvar\u001b[0m\u001b[0;34m,\u001b[0m \u001b[0mval\u001b[0m \u001b[0;32min\u001b[0m \u001b[0massignment\u001b[0m \u001b[0;32mif\u001b[0m \u001b[0mvar\u001b[0m \u001b[0;32mnot\u001b[0m \u001b[0;32min\u001b[0m \u001b[0mvariablesToSumOut\u001b[0m\u001b[0;34m)\u001b[0m\u001b[0;34m\u001b[0m\u001b[0;34m\u001b[0m\u001b[0m\n\u001b[1;32m     46\u001b[0m         \u001b[0mresult\u001b[0m\u001b[0;34m[\u001b[0m\u001b[0mnewAssignment\u001b[0m\u001b[0;34m]\u001b[0m \u001b[0;34m=\u001b[0m \u001b[0mresult\u001b[0m\u001b[0;34m.\u001b[0m\u001b[0mget\u001b[0m\u001b[0;34m(\u001b[0m\u001b[0mnewAssignment\u001b[0m\u001b[0;34m,\u001b[0m \u001b[0;36m0\u001b[0m\u001b[0;34m)\u001b[0m \u001b[0;34m+\u001b[0m \u001b[0mvalue\u001b[0m\u001b[0;34m\u001b[0m\u001b[0;34m\u001b[0m\u001b[0m\n",
      "\u001b[0;31mTypeError\u001b[0m: cannot unpack non-iterable int object"
     ]
    }
   ],
   "source": [
    "# Test the get_z_value function\n",
    "zValue = sampleInference.get_z_value()\n",
    "print(f\"Z Value: {zValue}\")"
   ]
  },
  {
   "cell_type": "code",
   "execution_count": null,
   "metadata": {},
   "outputs": [],
   "source": []
  }
 ],
 "metadata": {
  "kernelspec": {
   "display_name": "base",
   "language": "python",
   "name": "python3"
  },
  "language_info": {
   "codemirror_mode": {
    "name": "ipython",
    "version": 3
   },
   "file_extension": ".py",
   "mimetype": "text/x-python",
   "name": "python",
   "nbconvert_exporter": "python",
   "pygments_lexer": "ipython3",
   "version": "3.9.13"
  }
 },
 "nbformat": 4,
 "nbformat_minor": 2
}
